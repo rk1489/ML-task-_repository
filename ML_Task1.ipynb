{
 "cells": [
  {
   "cell_type": "code",
   "execution_count": 8,
   "metadata": {},
   "outputs": [
    {
     "data": {
      "text/html": [
       "<div>\n",
       "<style scoped>\n",
       "    .dataframe tbody tr th:only-of-type {\n",
       "        vertical-align: middle;\n",
       "    }\n",
       "\n",
       "    .dataframe tbody tr th {\n",
       "        vertical-align: top;\n",
       "    }\n",
       "\n",
       "    .dataframe thead th {\n",
       "        text-align: right;\n",
       "    }\n",
       "</style>\n",
       "<table border=\"1\" class=\"dataframe\">\n",
       "  <thead>\n",
       "    <tr style=\"text-align: right;\">\n",
       "      <th></th>\n",
       "      <th>City</th>\n",
       "      <th>State</th>\n",
       "      <th>Type</th>\n",
       "      <th>Population [2011]</th>\n",
       "      <th>Popuation [2001]</th>\n",
       "      <th>Sex Ratio</th>\n",
       "      <th>Median Age</th>\n",
       "      <th>Avg Temp</th>\n",
       "      <th>SWM</th>\n",
       "      <th>Toilets Avl</th>\n",
       "      <th>Water Purity</th>\n",
       "      <th>H Index</th>\n",
       "      <th>Female Population</th>\n",
       "      <th># of hospitals</th>\n",
       "      <th>Foreign Visitors</th>\n",
       "      <th>Covid Cases</th>\n",
       "    </tr>\n",
       "  </thead>\n",
       "  <tbody>\n",
       "    <tr>\n",
       "      <th>0</th>\n",
       "      <td>Mumbai</td>\n",
       "      <td>Maharashtra</td>\n",
       "      <td>M.C</td>\n",
       "      <td>12442373.0</td>\n",
       "      <td>11978450.0</td>\n",
       "      <td>878.0</td>\n",
       "      <td>23.0</td>\n",
       "      <td>32.0</td>\n",
       "      <td>MEDIUM</td>\n",
       "      <td>219.0</td>\n",
       "      <td>150.0</td>\n",
       "      <td>0.700440</td>\n",
       "      <td>10924403.0</td>\n",
       "      <td>159.0</td>\n",
       "      <td>4408916.0</td>\n",
       "      <td>163115</td>\n",
       "    </tr>\n",
       "    <tr>\n",
       "      <th>1</th>\n",
       "      <td>Delhi</td>\n",
       "      <td>Delhi</td>\n",
       "      <td>M.C</td>\n",
       "      <td>11007835.0</td>\n",
       "      <td>9879172.0</td>\n",
       "      <td>858.0</td>\n",
       "      <td>27.0</td>\n",
       "      <td>30.0</td>\n",
       "      <td>MEDIUM</td>\n",
       "      <td>215.0</td>\n",
       "      <td>196.0</td>\n",
       "      <td>0.920018</td>\n",
       "      <td>9444722.0</td>\n",
       "      <td>148.0</td>\n",
       "      <td>2379169.0</td>\n",
       "      <td>80188</td>\n",
       "    </tr>\n",
       "    <tr>\n",
       "      <th>2</th>\n",
       "      <td>Bangalore</td>\n",
       "      <td>Karnataka</td>\n",
       "      <td>MPUA</td>\n",
       "      <td>8436675.0</td>\n",
       "      <td>4301326.0</td>\n",
       "      <td>936.0</td>\n",
       "      <td>28.0</td>\n",
       "      <td>37.0</td>\n",
       "      <td>HIGH</td>\n",
       "      <td>212.0</td>\n",
       "      <td>102.0</td>\n",
       "      <td>0.097085</td>\n",
       "      <td>7896728.0</td>\n",
       "      <td>123.0</td>\n",
       "      <td>636502.0</td>\n",
       "      <td>141000</td>\n",
       "    </tr>\n",
       "    <tr>\n",
       "      <th>3</th>\n",
       "      <td>Hyderabad</td>\n",
       "      <td>Telangana</td>\n",
       "      <td>MPUA</td>\n",
       "      <td>6809970.0</td>\n",
       "      <td>3637483.0</td>\n",
       "      <td>930.0</td>\n",
       "      <td>23.0</td>\n",
       "      <td>31.0</td>\n",
       "      <td>MEDIUM</td>\n",
       "      <td>217.0</td>\n",
       "      <td>118.0</td>\n",
       "      <td>0.827744</td>\n",
       "      <td>6333272.0</td>\n",
       "      <td>110.0</td>\n",
       "      <td>126078.0</td>\n",
       "      <td>55123</td>\n",
       "    </tr>\n",
       "    <tr>\n",
       "      <th>4</th>\n",
       "      <td>Ahmedabad</td>\n",
       "      <td>Gujarat</td>\n",
       "      <td>MPUA</td>\n",
       "      <td>5570585.0</td>\n",
       "      <td>3520085.0</td>\n",
       "      <td>852.0</td>\n",
       "      <td>29.0</td>\n",
       "      <td>25.0</td>\n",
       "      <td>LOW</td>\n",
       "      <td>227.0</td>\n",
       "      <td>109.0</td>\n",
       "      <td>0.847941</td>\n",
       "      <td>4746138.0</td>\n",
       "      <td>73.0</td>\n",
       "      <td>284973.0</td>\n",
       "      <td>33204</td>\n",
       "    </tr>\n",
       "    <tr>\n",
       "      <th>5</th>\n",
       "      <td>Chennai</td>\n",
       "      <td>Tamil Nadu</td>\n",
       "      <td>MPUA</td>\n",
       "      <td>4681087.0</td>\n",
       "      <td>4343645.0</td>\n",
       "      <td>904.0</td>\n",
       "      <td>26.0</td>\n",
       "      <td>31.0</td>\n",
       "      <td>HIGH</td>\n",
       "      <td>210.0</td>\n",
       "      <td>179.0</td>\n",
       "      <td>0.536995</td>\n",
       "      <td>4231703.0</td>\n",
       "      <td>67.0</td>\n",
       "      <td>4684707.0</td>\n",
       "      <td>145606</td>\n",
       "    </tr>\n",
       "    <tr>\n",
       "      <th>6</th>\n",
       "      <td>Chennai</td>\n",
       "      <td>Tamil nadu</td>\n",
       "      <td>T</td>\n",
       "      <td>4646732.0</td>\n",
       "      <td>NaN</td>\n",
       "      <td>912.0</td>\n",
       "      <td>26.0</td>\n",
       "      <td>30.0</td>\n",
       "      <td>MEDIUM</td>\n",
       "      <td>145.0</td>\n",
       "      <td>177.0</td>\n",
       "      <td>0.093451</td>\n",
       "      <td>4237820.0</td>\n",
       "      <td>55.0</td>\n",
       "      <td>4684707.0</td>\n",
       "      <td>145606</td>\n",
       "    </tr>\n",
       "    <tr>\n",
       "      <th>7</th>\n",
       "      <td>Kolkata</td>\n",
       "      <td>West Bengal</td>\n",
       "      <td>MPUA</td>\n",
       "      <td>4486679.0</td>\n",
       "      <td>4572876.0</td>\n",
       "      <td>945.0</td>\n",
       "      <td>26.0</td>\n",
       "      <td>37.0</td>\n",
       "      <td>NaN</td>\n",
       "      <td>NaN</td>\n",
       "      <td>NaN</td>\n",
       "      <td>0.473585</td>\n",
       "      <td>4239912.0</td>\n",
       "      <td>82.0</td>\n",
       "      <td>1489500.0</td>\n",
       "      <td>44957</td>\n",
       "    </tr>\n",
       "    <tr>\n",
       "      <th>8</th>\n",
       "      <td>Surat</td>\n",
       "      <td>Gujarat</td>\n",
       "      <td>MPUA</td>\n",
       "      <td>4467797.0</td>\n",
       "      <td>2433835.0</td>\n",
       "      <td>NaN</td>\n",
       "      <td>27.0</td>\n",
       "      <td>26.0</td>\n",
       "      <td>NaN</td>\n",
       "      <td>NaN</td>\n",
       "      <td>NaN</td>\n",
       "      <td>0.809334</td>\n",
       "      <td>3797627.0</td>\n",
       "      <td>98.0</td>\n",
       "      <td>284973.0</td>\n",
       "      <td>23432</td>\n",
       "    </tr>\n",
       "    <tr>\n",
       "      <th>9</th>\n",
       "      <td>Pune</td>\n",
       "      <td>Maharashtra</td>\n",
       "      <td>MPUA</td>\n",
       "      <td>3124458.0</td>\n",
       "      <td>2538473.0</td>\n",
       "      <td>NaN</td>\n",
       "      <td>29.0</td>\n",
       "      <td>29.0</td>\n",
       "      <td>NaN</td>\n",
       "      <td>NaN</td>\n",
       "      <td>NaN</td>\n",
       "      <td>0.445902</td>\n",
       "      <td>2743274.0</td>\n",
       "      <td>50.0</td>\n",
       "      <td>4408916.0</td>\n",
       "      <td>218502</td>\n",
       "    </tr>\n",
       "  </tbody>\n",
       "</table>\n",
       "</div>"
      ],
      "text/plain": [
       "        City        State  Type  Population [2011]  Popuation [2001]  \\\n",
       "0     Mumbai  Maharashtra   M.C         12442373.0        11978450.0   \n",
       "1      Delhi        Delhi   M.C         11007835.0         9879172.0   \n",
       "2  Bangalore    Karnataka  MPUA          8436675.0         4301326.0   \n",
       "3  Hyderabad    Telangana  MPUA          6809970.0         3637483.0   \n",
       "4  Ahmedabad      Gujarat  MPUA          5570585.0         3520085.0   \n",
       "5    Chennai   Tamil Nadu  MPUA          4681087.0         4343645.0   \n",
       "6    Chennai   Tamil nadu     T          4646732.0               NaN   \n",
       "7    Kolkata  West Bengal  MPUA          4486679.0         4572876.0   \n",
       "8      Surat      Gujarat  MPUA          4467797.0         2433835.0   \n",
       "9       Pune  Maharashtra  MPUA          3124458.0         2538473.0   \n",
       "\n",
       "   Sex Ratio  Median Age  Avg Temp     SWM  Toilets Avl  Water Purity  \\\n",
       "0      878.0        23.0      32.0  MEDIUM        219.0         150.0   \n",
       "1      858.0        27.0      30.0  MEDIUM        215.0         196.0   \n",
       "2      936.0        28.0      37.0    HIGH        212.0         102.0   \n",
       "3      930.0        23.0      31.0  MEDIUM        217.0         118.0   \n",
       "4      852.0        29.0      25.0     LOW        227.0         109.0   \n",
       "5      904.0        26.0      31.0    HIGH        210.0         179.0   \n",
       "6      912.0        26.0      30.0  MEDIUM        145.0         177.0   \n",
       "7      945.0        26.0      37.0     NaN          NaN           NaN   \n",
       "8        NaN        27.0      26.0     NaN          NaN           NaN   \n",
       "9        NaN        29.0      29.0     NaN          NaN           NaN   \n",
       "\n",
       "    H Index  Female Population  # of hospitals  Foreign Visitors  Covid Cases  \n",
       "0  0.700440         10924403.0           159.0         4408916.0       163115  \n",
       "1  0.920018          9444722.0           148.0         2379169.0        80188  \n",
       "2  0.097085          7896728.0           123.0          636502.0       141000  \n",
       "3  0.827744          6333272.0           110.0          126078.0        55123  \n",
       "4  0.847941          4746138.0            73.0          284973.0        33204  \n",
       "5  0.536995          4231703.0            67.0         4684707.0       145606  \n",
       "6  0.093451          4237820.0            55.0         4684707.0       145606  \n",
       "7  0.473585          4239912.0            82.0         1489500.0        44957  \n",
       "8  0.809334          3797627.0            98.0          284973.0        23432  \n",
       "9  0.445902          2743274.0            50.0         4408916.0       218502  "
      ]
     },
     "execution_count": 8,
     "metadata": {},
     "output_type": "execute_result"
    }
   ],
   "source": [
    "import pandas as pd\n",
    "import numpy as np\n",
    "import seaborn as sns\n",
    "import matplotlib.pyplot as plt\n",
    "%matplotlib inline\n",
    "import math\n",
    "\n",
    "dataset=pd.read_excel(\"Train_dataset.xlsx\")\n",
    "dataset.head(10)"
   ]
  },
  {
   "cell_type": "code",
   "execution_count": 9,
   "metadata": {},
   "outputs": [],
   "source": [
    "dataset.drop(\"City\",axis=1,inplace=True)\n",
    "dataset.drop(\"State\",axis=1,inplace=True)\n",
    "dataset.drop(\"Type\",axis=1,inplace=True)\n",
    "dataset.drop(\"Popuation [2001]\",axis=1,inplace=True)"
   ]
  },
  {
   "cell_type": "code",
   "execution_count": 10,
   "metadata": {},
   "outputs": [
    {
     "data": {
      "text/plain": [
       "(787, 12)"
      ]
     },
     "execution_count": 10,
     "metadata": {},
     "output_type": "execute_result"
    }
   ],
   "source": [
    "dataset.shape"
   ]
  },
  {
   "cell_type": "code",
   "execution_count": 11,
   "metadata": {},
   "outputs": [
    {
     "data": {
      "text/plain": [
       "Population [2011]     48\n",
       "Sex Ratio             10\n",
       "Median Age            18\n",
       "Avg Temp              17\n",
       "SWM                    4\n",
       "Toilets Avl           26\n",
       "Water Purity         158\n",
       "H Index              140\n",
       "Female Population    141\n",
       "# of hospitals        15\n",
       "Foreign Visitors      90\n",
       "Covid Cases            0\n",
       "dtype: int64"
      ]
     },
     "execution_count": 11,
     "metadata": {},
     "output_type": "execute_result"
    }
   ],
   "source": [
    "dataset.isnull().sum()"
   ]
  },
  {
   "cell_type": "code",
   "execution_count": 12,
   "metadata": {},
   "outputs": [
    {
     "data": {
      "text/plain": [
       "Population [2011]    0\n",
       "Sex Ratio            0\n",
       "Median Age           0\n",
       "Avg Temp             0\n",
       "SWM                  0\n",
       "Toilets Avl          0\n",
       "Water Purity         0\n",
       "H Index              0\n",
       "Female Population    0\n",
       "# of hospitals       0\n",
       "Foreign Visitors     0\n",
       "Covid Cases          0\n",
       "dtype: int64"
      ]
     },
     "execution_count": 12,
     "metadata": {},
     "output_type": "execute_result"
    }
   ],
   "source": [
    "dataset.fillna(axis=0,method='ffill',inplace=True)\n",
    "dataset.isnull().sum()"
   ]
  },
  {
   "cell_type": "code",
   "execution_count": 13,
   "metadata": {},
   "outputs": [
    {
     "data": {
      "text/html": [
       "<div>\n",
       "<style scoped>\n",
       "    .dataframe tbody tr th:only-of-type {\n",
       "        vertical-align: middle;\n",
       "    }\n",
       "\n",
       "    .dataframe tbody tr th {\n",
       "        vertical-align: top;\n",
       "    }\n",
       "\n",
       "    .dataframe thead th {\n",
       "        text-align: right;\n",
       "    }\n",
       "</style>\n",
       "<table border=\"1\" class=\"dataframe\">\n",
       "  <thead>\n",
       "    <tr style=\"text-align: right;\">\n",
       "      <th></th>\n",
       "      <th>LOW</th>\n",
       "      <th>MEDIUM</th>\n",
       "    </tr>\n",
       "  </thead>\n",
       "  <tbody>\n",
       "    <tr>\n",
       "      <th>0</th>\n",
       "      <td>0</td>\n",
       "      <td>1</td>\n",
       "    </tr>\n",
       "    <tr>\n",
       "      <th>1</th>\n",
       "      <td>0</td>\n",
       "      <td>1</td>\n",
       "    </tr>\n",
       "    <tr>\n",
       "      <th>2</th>\n",
       "      <td>0</td>\n",
       "      <td>0</td>\n",
       "    </tr>\n",
       "    <tr>\n",
       "      <th>3</th>\n",
       "      <td>0</td>\n",
       "      <td>1</td>\n",
       "    </tr>\n",
       "    <tr>\n",
       "      <th>4</th>\n",
       "      <td>1</td>\n",
       "      <td>0</td>\n",
       "    </tr>\n",
       "  </tbody>\n",
       "</table>\n",
       "</div>"
      ],
      "text/plain": [
       "   LOW  MEDIUM\n",
       "0    0       1\n",
       "1    0       1\n",
       "2    0       0\n",
       "3    0       1\n",
       "4    1       0"
      ]
     },
     "execution_count": 13,
     "metadata": {},
     "output_type": "execute_result"
    }
   ],
   "source": [
    "SWM = pd.get_dummies(dataset['SWM'],drop_first=True)\n",
    "SWM.head(5)"
   ]
  },
  {
   "cell_type": "code",
   "execution_count": 14,
   "metadata": {},
   "outputs": [
    {
     "data": {
      "text/html": [
       "<div>\n",
       "<style scoped>\n",
       "    .dataframe tbody tr th:only-of-type {\n",
       "        vertical-align: middle;\n",
       "    }\n",
       "\n",
       "    .dataframe tbody tr th {\n",
       "        vertical-align: top;\n",
       "    }\n",
       "\n",
       "    .dataframe thead th {\n",
       "        text-align: right;\n",
       "    }\n",
       "</style>\n",
       "<table border=\"1\" class=\"dataframe\">\n",
       "  <thead>\n",
       "    <tr style=\"text-align: right;\">\n",
       "      <th></th>\n",
       "      <th>Population [2011]</th>\n",
       "      <th>Sex Ratio</th>\n",
       "      <th>Median Age</th>\n",
       "      <th>Avg Temp</th>\n",
       "      <th>SWM</th>\n",
       "      <th>Toilets Avl</th>\n",
       "      <th>Water Purity</th>\n",
       "      <th>H Index</th>\n",
       "      <th>Female Population</th>\n",
       "      <th># of hospitals</th>\n",
       "      <th>Foreign Visitors</th>\n",
       "      <th>Covid Cases</th>\n",
       "      <th>LOW</th>\n",
       "      <th>MEDIUM</th>\n",
       "    </tr>\n",
       "  </thead>\n",
       "  <tbody>\n",
       "    <tr>\n",
       "      <th>0</th>\n",
       "      <td>12442373.0</td>\n",
       "      <td>878.0</td>\n",
       "      <td>23.0</td>\n",
       "      <td>32.0</td>\n",
       "      <td>MEDIUM</td>\n",
       "      <td>219.0</td>\n",
       "      <td>150.0</td>\n",
       "      <td>0.700440</td>\n",
       "      <td>10924403.0</td>\n",
       "      <td>159.0</td>\n",
       "      <td>4408916.0</td>\n",
       "      <td>163115</td>\n",
       "      <td>0</td>\n",
       "      <td>1</td>\n",
       "    </tr>\n",
       "    <tr>\n",
       "      <th>1</th>\n",
       "      <td>11007835.0</td>\n",
       "      <td>858.0</td>\n",
       "      <td>27.0</td>\n",
       "      <td>30.0</td>\n",
       "      <td>MEDIUM</td>\n",
       "      <td>215.0</td>\n",
       "      <td>196.0</td>\n",
       "      <td>0.920018</td>\n",
       "      <td>9444722.0</td>\n",
       "      <td>148.0</td>\n",
       "      <td>2379169.0</td>\n",
       "      <td>80188</td>\n",
       "      <td>0</td>\n",
       "      <td>1</td>\n",
       "    </tr>\n",
       "    <tr>\n",
       "      <th>2</th>\n",
       "      <td>8436675.0</td>\n",
       "      <td>936.0</td>\n",
       "      <td>28.0</td>\n",
       "      <td>37.0</td>\n",
       "      <td>HIGH</td>\n",
       "      <td>212.0</td>\n",
       "      <td>102.0</td>\n",
       "      <td>0.097085</td>\n",
       "      <td>7896728.0</td>\n",
       "      <td>123.0</td>\n",
       "      <td>636502.0</td>\n",
       "      <td>141000</td>\n",
       "      <td>0</td>\n",
       "      <td>0</td>\n",
       "    </tr>\n",
       "    <tr>\n",
       "      <th>3</th>\n",
       "      <td>6809970.0</td>\n",
       "      <td>930.0</td>\n",
       "      <td>23.0</td>\n",
       "      <td>31.0</td>\n",
       "      <td>MEDIUM</td>\n",
       "      <td>217.0</td>\n",
       "      <td>118.0</td>\n",
       "      <td>0.827744</td>\n",
       "      <td>6333272.0</td>\n",
       "      <td>110.0</td>\n",
       "      <td>126078.0</td>\n",
       "      <td>55123</td>\n",
       "      <td>0</td>\n",
       "      <td>1</td>\n",
       "    </tr>\n",
       "    <tr>\n",
       "      <th>4</th>\n",
       "      <td>5570585.0</td>\n",
       "      <td>852.0</td>\n",
       "      <td>29.0</td>\n",
       "      <td>25.0</td>\n",
       "      <td>LOW</td>\n",
       "      <td>227.0</td>\n",
       "      <td>109.0</td>\n",
       "      <td>0.847941</td>\n",
       "      <td>4746138.0</td>\n",
       "      <td>73.0</td>\n",
       "      <td>284973.0</td>\n",
       "      <td>33204</td>\n",
       "      <td>1</td>\n",
       "      <td>0</td>\n",
       "    </tr>\n",
       "  </tbody>\n",
       "</table>\n",
       "</div>"
      ],
      "text/plain": [
       "   Population [2011]  Sex Ratio  Median Age  Avg Temp     SWM  Toilets Avl  \\\n",
       "0         12442373.0      878.0        23.0      32.0  MEDIUM        219.0   \n",
       "1         11007835.0      858.0        27.0      30.0  MEDIUM        215.0   \n",
       "2          8436675.0      936.0        28.0      37.0    HIGH        212.0   \n",
       "3          6809970.0      930.0        23.0      31.0  MEDIUM        217.0   \n",
       "4          5570585.0      852.0        29.0      25.0     LOW        227.0   \n",
       "\n",
       "   Water Purity   H Index  Female Population  # of hospitals  \\\n",
       "0         150.0  0.700440         10924403.0           159.0   \n",
       "1         196.0  0.920018          9444722.0           148.0   \n",
       "2         102.0  0.097085          7896728.0           123.0   \n",
       "3         118.0  0.827744          6333272.0           110.0   \n",
       "4         109.0  0.847941          4746138.0            73.0   \n",
       "\n",
       "   Foreign Visitors  Covid Cases  LOW  MEDIUM  \n",
       "0         4408916.0       163115    0       1  \n",
       "1         2379169.0        80188    0       1  \n",
       "2          636502.0       141000    0       0  \n",
       "3          126078.0        55123    0       1  \n",
       "4          284973.0        33204    1       0  "
      ]
     },
     "execution_count": 14,
     "metadata": {},
     "output_type": "execute_result"
    }
   ],
   "source": [
    "dataset=pd.concat([dataset,SWM],axis=1)\n",
    "dataset.head(5)"
   ]
  },
  {
   "cell_type": "code",
   "execution_count": 15,
   "metadata": {},
   "outputs": [
    {
     "data": {
      "text/plain": [
       "(787, 13)"
      ]
     },
     "execution_count": 15,
     "metadata": {},
     "output_type": "execute_result"
    }
   ],
   "source": [
    "dataset.drop(\"SWM\",axis=1,inplace=True)\n",
    "dataset.shape"
   ]
  },
  {
   "cell_type": "code",
   "execution_count": 16,
   "metadata": {},
   "outputs": [
    {
     "data": {
      "text/html": [
       "<div>\n",
       "<style scoped>\n",
       "    .dataframe tbody tr th:only-of-type {\n",
       "        vertical-align: middle;\n",
       "    }\n",
       "\n",
       "    .dataframe tbody tr th {\n",
       "        vertical-align: top;\n",
       "    }\n",
       "\n",
       "    .dataframe thead th {\n",
       "        text-align: right;\n",
       "    }\n",
       "</style>\n",
       "<table border=\"1\" class=\"dataframe\">\n",
       "  <thead>\n",
       "    <tr style=\"text-align: right;\">\n",
       "      <th></th>\n",
       "      <th>Population [2011]</th>\n",
       "      <th>Sex Ratio</th>\n",
       "      <th>Median Age</th>\n",
       "      <th>Avg Temp</th>\n",
       "      <th>Toilets Avl</th>\n",
       "      <th>Water Purity</th>\n",
       "      <th>H Index</th>\n",
       "      <th>Female Population</th>\n",
       "      <th># of hospitals</th>\n",
       "      <th>Foreign Visitors</th>\n",
       "      <th>Covid Cases</th>\n",
       "      <th>LOW</th>\n",
       "      <th>MEDIUM</th>\n",
       "    </tr>\n",
       "  </thead>\n",
       "  <tbody>\n",
       "    <tr>\n",
       "      <th>0</th>\n",
       "      <td>12442373.0</td>\n",
       "      <td>878.0</td>\n",
       "      <td>23.0</td>\n",
       "      <td>32.0</td>\n",
       "      <td>219.0</td>\n",
       "      <td>150.0</td>\n",
       "      <td>0.700440</td>\n",
       "      <td>10924403.0</td>\n",
       "      <td>159.0</td>\n",
       "      <td>4408916.0</td>\n",
       "      <td>163115</td>\n",
       "      <td>0</td>\n",
       "      <td>1</td>\n",
       "    </tr>\n",
       "    <tr>\n",
       "      <th>1</th>\n",
       "      <td>11007835.0</td>\n",
       "      <td>858.0</td>\n",
       "      <td>27.0</td>\n",
       "      <td>30.0</td>\n",
       "      <td>215.0</td>\n",
       "      <td>196.0</td>\n",
       "      <td>0.920018</td>\n",
       "      <td>9444722.0</td>\n",
       "      <td>148.0</td>\n",
       "      <td>2379169.0</td>\n",
       "      <td>80188</td>\n",
       "      <td>0</td>\n",
       "      <td>1</td>\n",
       "    </tr>\n",
       "    <tr>\n",
       "      <th>2</th>\n",
       "      <td>8436675.0</td>\n",
       "      <td>936.0</td>\n",
       "      <td>28.0</td>\n",
       "      <td>37.0</td>\n",
       "      <td>212.0</td>\n",
       "      <td>102.0</td>\n",
       "      <td>0.097085</td>\n",
       "      <td>7896728.0</td>\n",
       "      <td>123.0</td>\n",
       "      <td>636502.0</td>\n",
       "      <td>141000</td>\n",
       "      <td>0</td>\n",
       "      <td>0</td>\n",
       "    </tr>\n",
       "    <tr>\n",
       "      <th>3</th>\n",
       "      <td>6809970.0</td>\n",
       "      <td>930.0</td>\n",
       "      <td>23.0</td>\n",
       "      <td>31.0</td>\n",
       "      <td>217.0</td>\n",
       "      <td>118.0</td>\n",
       "      <td>0.827744</td>\n",
       "      <td>6333272.0</td>\n",
       "      <td>110.0</td>\n",
       "      <td>126078.0</td>\n",
       "      <td>55123</td>\n",
       "      <td>0</td>\n",
       "      <td>1</td>\n",
       "    </tr>\n",
       "    <tr>\n",
       "      <th>4</th>\n",
       "      <td>5570585.0</td>\n",
       "      <td>852.0</td>\n",
       "      <td>29.0</td>\n",
       "      <td>25.0</td>\n",
       "      <td>227.0</td>\n",
       "      <td>109.0</td>\n",
       "      <td>0.847941</td>\n",
       "      <td>4746138.0</td>\n",
       "      <td>73.0</td>\n",
       "      <td>284973.0</td>\n",
       "      <td>33204</td>\n",
       "      <td>1</td>\n",
       "      <td>0</td>\n",
       "    </tr>\n",
       "  </tbody>\n",
       "</table>\n",
       "</div>"
      ],
      "text/plain": [
       "   Population [2011]  Sex Ratio  Median Age  Avg Temp  Toilets Avl  \\\n",
       "0         12442373.0      878.0        23.0      32.0        219.0   \n",
       "1         11007835.0      858.0        27.0      30.0        215.0   \n",
       "2          8436675.0      936.0        28.0      37.0        212.0   \n",
       "3          6809970.0      930.0        23.0      31.0        217.0   \n",
       "4          5570585.0      852.0        29.0      25.0        227.0   \n",
       "\n",
       "   Water Purity   H Index  Female Population  # of hospitals  \\\n",
       "0         150.0  0.700440         10924403.0           159.0   \n",
       "1         196.0  0.920018          9444722.0           148.0   \n",
       "2         102.0  0.097085          7896728.0           123.0   \n",
       "3         118.0  0.827744          6333272.0           110.0   \n",
       "4         109.0  0.847941          4746138.0            73.0   \n",
       "\n",
       "   Foreign Visitors  Covid Cases  LOW  MEDIUM  \n",
       "0         4408916.0       163115    0       1  \n",
       "1         2379169.0        80188    0       1  \n",
       "2          636502.0       141000    0       0  \n",
       "3          126078.0        55123    0       1  \n",
       "4          284973.0        33204    1       0  "
      ]
     },
     "execution_count": 16,
     "metadata": {},
     "output_type": "execute_result"
    }
   ],
   "source": [
    "dataset.head(5)"
   ]
  },
  {
   "cell_type": "code",
   "execution_count": 17,
   "metadata": {},
   "outputs": [],
   "source": [
    "X=dataset.drop('Covid Cases',axis=1)\n",
    "y=dataset['Covid Cases']"
   ]
  },
  {
   "cell_type": "code",
   "execution_count": null,
   "metadata": {},
   "outputs": [],
   "source": [
    "\n",
    "\n"
   ]
  },
  {
   "cell_type": "code",
   "execution_count": 18,
   "metadata": {},
   "outputs": [
    {
     "data": {
      "text/html": [
       "<div>\n",
       "<style scoped>\n",
       "    .dataframe tbody tr th:only-of-type {\n",
       "        vertical-align: middle;\n",
       "    }\n",
       "\n",
       "    .dataframe tbody tr th {\n",
       "        vertical-align: top;\n",
       "    }\n",
       "\n",
       "    .dataframe thead th {\n",
       "        text-align: right;\n",
       "    }\n",
       "</style>\n",
       "<table border=\"1\" class=\"dataframe\">\n",
       "  <thead>\n",
       "    <tr style=\"text-align: right;\">\n",
       "      <th></th>\n",
       "      <th>City</th>\n",
       "      <th>State</th>\n",
       "      <th>Type</th>\n",
       "      <th>Population [2011]</th>\n",
       "      <th>Popuation [2001]</th>\n",
       "      <th>Sex Ratio</th>\n",
       "      <th>Median Age</th>\n",
       "      <th>Avg Temp</th>\n",
       "      <th>SWM</th>\n",
       "      <th>Toilets Avl</th>\n",
       "      <th>Water Purity</th>\n",
       "      <th>H Index</th>\n",
       "      <th>Female Population</th>\n",
       "      <th># of hospitals</th>\n",
       "      <th>Foreign Visitors</th>\n",
       "    </tr>\n",
       "  </thead>\n",
       "  <tbody>\n",
       "    <tr>\n",
       "      <th>0</th>\n",
       "      <td>Tuensang</td>\n",
       "      <td>Nagaland</td>\n",
       "      <td>T.C</td>\n",
       "      <td>36774.0</td>\n",
       "      <td>NaN</td>\n",
       "      <td>931.0</td>\n",
       "      <td>23.0</td>\n",
       "      <td>10.0</td>\n",
       "      <td>MEDIUM</td>\n",
       "      <td>94.0</td>\n",
       "      <td>114.0</td>\n",
       "      <td>0.253390</td>\n",
       "      <td>34237.0</td>\n",
       "      <td>17.0</td>\n",
       "      <td>2769.0</td>\n",
       "    </tr>\n",
       "    <tr>\n",
       "      <th>1</th>\n",
       "      <td>Lakshmeshwar</td>\n",
       "      <td>Karnataka</td>\n",
       "      <td>T.M.C</td>\n",
       "      <td>36754.0</td>\n",
       "      <td>NaN</td>\n",
       "      <td>934.0</td>\n",
       "      <td>25.0</td>\n",
       "      <td>38.0</td>\n",
       "      <td>HIGH</td>\n",
       "      <td>62.0</td>\n",
       "      <td>160.0</td>\n",
       "      <td>0.192555</td>\n",
       "      <td>34328.0</td>\n",
       "      <td>13.0</td>\n",
       "      <td>636502.0</td>\n",
       "    </tr>\n",
       "    <tr>\n",
       "      <th>2</th>\n",
       "      <td>Zira</td>\n",
       "      <td>Punjab</td>\n",
       "      <td>M.Cl.</td>\n",
       "      <td>36732.0</td>\n",
       "      <td>NaN</td>\n",
       "      <td>883.0</td>\n",
       "      <td>29.0</td>\n",
       "      <td>35.0</td>\n",
       "      <td>HIGH</td>\n",
       "      <td>63.0</td>\n",
       "      <td>105.0</td>\n",
       "      <td>0.887882</td>\n",
       "      <td>32434.0</td>\n",
       "      <td>17.0</td>\n",
       "      <td>242367.0</td>\n",
       "    </tr>\n",
       "    <tr>\n",
       "      <th>3</th>\n",
       "      <td>Yawal</td>\n",
       "      <td>Maharashtra</td>\n",
       "      <td>M.Cl</td>\n",
       "      <td>36706.0</td>\n",
       "      <td>NaN</td>\n",
       "      <td>887.0</td>\n",
       "      <td>26.0</td>\n",
       "      <td>31.0</td>\n",
       "      <td>HIGH</td>\n",
       "      <td>60.0</td>\n",
       "      <td>174.0</td>\n",
       "      <td>0.407838</td>\n",
       "      <td>32558.0</td>\n",
       "      <td>11.0</td>\n",
       "      <td>4408916.0</td>\n",
       "    </tr>\n",
       "    <tr>\n",
       "      <th>4</th>\n",
       "      <td>Thana Bhawan</td>\n",
       "      <td>Uttar Pradesh</td>\n",
       "      <td>N.P.</td>\n",
       "      <td>36669.0</td>\n",
       "      <td>NaN</td>\n",
       "      <td>877.0</td>\n",
       "      <td>28.0</td>\n",
       "      <td>39.0</td>\n",
       "      <td>LOW</td>\n",
       "      <td>92.0</td>\n",
       "      <td>153.0</td>\n",
       "      <td>0.324456</td>\n",
       "      <td>32159.0</td>\n",
       "      <td>23.0</td>\n",
       "      <td>3104060.0</td>\n",
       "    </tr>\n",
       "    <tr>\n",
       "      <th>5</th>\n",
       "      <td>Ramdurg</td>\n",
       "      <td>Karnataka</td>\n",
       "      <td>UA</td>\n",
       "      <td>36649.0</td>\n",
       "      <td>NaN</td>\n",
       "      <td>942.0</td>\n",
       "      <td>27.0</td>\n",
       "      <td>28.0</td>\n",
       "      <td>MEDIUM</td>\n",
       "      <td>92.0</td>\n",
       "      <td>185.0</td>\n",
       "      <td>0.571883</td>\n",
       "      <td>34523.0</td>\n",
       "      <td>30.0</td>\n",
       "      <td>636502.0</td>\n",
       "    </tr>\n",
       "    <tr>\n",
       "      <th>6</th>\n",
       "      <td>Pulgaon</td>\n",
       "      <td>Maharashtra</td>\n",
       "      <td>M.Cl</td>\n",
       "      <td>36522.0</td>\n",
       "      <td>NaN</td>\n",
       "      <td>887.0</td>\n",
       "      <td>26.0</td>\n",
       "      <td>31.0</td>\n",
       "      <td>MEDIUM</td>\n",
       "      <td>72.0</td>\n",
       "      <td>108.0</td>\n",
       "      <td>0.271195</td>\n",
       "      <td>32395.0</td>\n",
       "      <td>11.0</td>\n",
       "      <td>4408916.0</td>\n",
       "    </tr>\n",
       "    <tr>\n",
       "      <th>7</th>\n",
       "      <td>Sadasivpet</td>\n",
       "      <td>Telangana</td>\n",
       "      <td>M</td>\n",
       "      <td>36334.0</td>\n",
       "      <td>NaN</td>\n",
       "      <td>921.0</td>\n",
       "      <td>27.0</td>\n",
       "      <td>40.0</td>\n",
       "      <td>LOW</td>\n",
       "      <td>70.0</td>\n",
       "      <td>116.0</td>\n",
       "      <td>0.494227</td>\n",
       "      <td>33464.0</td>\n",
       "      <td>17.0</td>\n",
       "      <td>126078.0</td>\n",
       "    </tr>\n",
       "    <tr>\n",
       "      <th>8</th>\n",
       "      <td>Nargund</td>\n",
       "      <td>Karnataka</td>\n",
       "      <td>T.M.C</td>\n",
       "      <td>36291.0</td>\n",
       "      <td>NaN</td>\n",
       "      <td>940.0</td>\n",
       "      <td>23.0</td>\n",
       "      <td>37.0</td>\n",
       "      <td>LOW</td>\n",
       "      <td>77.0</td>\n",
       "      <td>148.0</td>\n",
       "      <td>0.708562</td>\n",
       "      <td>34114.0</td>\n",
       "      <td>21.0</td>\n",
       "      <td>636502.0</td>\n",
       "    </tr>\n",
       "    <tr>\n",
       "      <th>9</th>\n",
       "      <td>Neem-Ka-Thana</td>\n",
       "      <td>Rajasthan</td>\n",
       "      <td>M</td>\n",
       "      <td>36231.0</td>\n",
       "      <td>NaN</td>\n",
       "      <td>850.0</td>\n",
       "      <td>25.0</td>\n",
       "      <td>25.0</td>\n",
       "      <td>MEDIUM</td>\n",
       "      <td>61.0</td>\n",
       "      <td>148.0</td>\n",
       "      <td>0.592325</td>\n",
       "      <td>30796.0</td>\n",
       "      <td>29.0</td>\n",
       "      <td>1475311.0</td>\n",
       "    </tr>\n",
       "  </tbody>\n",
       "</table>\n",
       "</div>"
      ],
      "text/plain": [
       "            City          State   Type  Population [2011]  Popuation [2001]  \\\n",
       "0       Tuensang       Nagaland    T.C            36774.0               NaN   \n",
       "1   Lakshmeshwar      Karnataka  T.M.C            36754.0               NaN   \n",
       "2           Zira         Punjab  M.Cl.            36732.0               NaN   \n",
       "3          Yawal    Maharashtra   M.Cl            36706.0               NaN   \n",
       "4   Thana Bhawan  Uttar Pradesh   N.P.            36669.0               NaN   \n",
       "5        Ramdurg      Karnataka     UA            36649.0               NaN   \n",
       "6        Pulgaon    Maharashtra   M.Cl            36522.0               NaN   \n",
       "7     Sadasivpet      Telangana      M            36334.0               NaN   \n",
       "8        Nargund      Karnataka  T.M.C            36291.0               NaN   \n",
       "9  Neem-Ka-Thana      Rajasthan      M            36231.0               NaN   \n",
       "\n",
       "   Sex Ratio  Median Age  Avg Temp     SWM  Toilets Avl  Water Purity  \\\n",
       "0      931.0        23.0      10.0  MEDIUM         94.0         114.0   \n",
       "1      934.0        25.0      38.0    HIGH         62.0         160.0   \n",
       "2      883.0        29.0      35.0    HIGH         63.0         105.0   \n",
       "3      887.0        26.0      31.0    HIGH         60.0         174.0   \n",
       "4      877.0        28.0      39.0     LOW         92.0         153.0   \n",
       "5      942.0        27.0      28.0  MEDIUM         92.0         185.0   \n",
       "6      887.0        26.0      31.0  MEDIUM         72.0         108.0   \n",
       "7      921.0        27.0      40.0     LOW         70.0         116.0   \n",
       "8      940.0        23.0      37.0     LOW         77.0         148.0   \n",
       "9      850.0        25.0      25.0  MEDIUM         61.0         148.0   \n",
       "\n",
       "    H Index  Female Population  # of hospitals  Foreign Visitors  \n",
       "0  0.253390            34237.0            17.0            2769.0  \n",
       "1  0.192555            34328.0            13.0          636502.0  \n",
       "2  0.887882            32434.0            17.0          242367.0  \n",
       "3  0.407838            32558.0            11.0         4408916.0  \n",
       "4  0.324456            32159.0            23.0         3104060.0  \n",
       "5  0.571883            34523.0            30.0          636502.0  \n",
       "6  0.271195            32395.0            11.0         4408916.0  \n",
       "7  0.494227            33464.0            17.0          126078.0  \n",
       "8  0.708562            34114.0            21.0          636502.0  \n",
       "9  0.592325            30796.0            29.0         1475311.0  "
      ]
     },
     "execution_count": 18,
     "metadata": {},
     "output_type": "execute_result"
    }
   ],
   "source": [
    "testdata=pd.read_excel(\"Test_dataset.xlsx\")\n",
    "testdata.head(10)"
   ]
  },
  {
   "cell_type": "code",
   "execution_count": 19,
   "metadata": {},
   "outputs": [
    {
     "data": {
      "text/plain": [
       "(501, 11)"
      ]
     },
     "execution_count": 19,
     "metadata": {},
     "output_type": "execute_result"
    }
   ],
   "source": [
    "testdata.drop(\"City\",axis=1,inplace=True)\n",
    "testdata.drop(\"State\",axis=1,inplace=True)\n",
    "testdata.drop(\"Type\",axis=1,inplace=True)\n",
    "testdata.drop(\"Popuation [2001]\",axis=1,inplace=True)\n",
    "testdata.shape"
   ]
  },
  {
   "cell_type": "code",
   "execution_count": 20,
   "metadata": {},
   "outputs": [
    {
     "data": {
      "text/plain": [
       "Population [2011]     6\n",
       "Sex Ratio             5\n",
       "Median Age           13\n",
       "Avg Temp             14\n",
       "SWM                   9\n",
       "Toilets Avl          22\n",
       "Water Purity         19\n",
       "H Index              15\n",
       "Female Population    15\n",
       "# of hospitals       17\n",
       "Foreign Visitors     17\n",
       "dtype: int64"
      ]
     },
     "execution_count": 20,
     "metadata": {},
     "output_type": "execute_result"
    }
   ],
   "source": [
    "testdata.isnull().sum()"
   ]
  },
  {
   "cell_type": "code",
   "execution_count": 21,
   "metadata": {},
   "outputs": [
    {
     "data": {
      "text/plain": [
       "Population [2011]    0\n",
       "Sex Ratio            0\n",
       "Median Age           0\n",
       "Avg Temp             0\n",
       "Toilets Avl          0\n",
       "Water Purity         0\n",
       "H Index              0\n",
       "Female Population    0\n",
       "# of hospitals       0\n",
       "Foreign Visitors     0\n",
       "Covid Cases          0\n",
       "LOW                  0\n",
       "MEDIUM               0\n",
       "dtype: int64"
      ]
     },
     "execution_count": 21,
     "metadata": {},
     "output_type": "execute_result"
    }
   ],
   "source": [
    "testdata.fillna(axis=0,method='ffill',inplace=True)\n",
    "dataset.isnull().sum()"
   ]
  },
  {
   "cell_type": "code",
   "execution_count": 22,
   "metadata": {},
   "outputs": [
    {
     "data": {
      "text/html": [
       "<div>\n",
       "<style scoped>\n",
       "    .dataframe tbody tr th:only-of-type {\n",
       "        vertical-align: middle;\n",
       "    }\n",
       "\n",
       "    .dataframe tbody tr th {\n",
       "        vertical-align: top;\n",
       "    }\n",
       "\n",
       "    .dataframe thead th {\n",
       "        text-align: right;\n",
       "    }\n",
       "</style>\n",
       "<table border=\"1\" class=\"dataframe\">\n",
       "  <thead>\n",
       "    <tr style=\"text-align: right;\">\n",
       "      <th></th>\n",
       "      <th>LOW</th>\n",
       "      <th>MEDIUM</th>\n",
       "    </tr>\n",
       "  </thead>\n",
       "  <tbody>\n",
       "    <tr>\n",
       "      <th>0</th>\n",
       "      <td>0</td>\n",
       "      <td>1</td>\n",
       "    </tr>\n",
       "    <tr>\n",
       "      <th>1</th>\n",
       "      <td>0</td>\n",
       "      <td>0</td>\n",
       "    </tr>\n",
       "    <tr>\n",
       "      <th>2</th>\n",
       "      <td>0</td>\n",
       "      <td>0</td>\n",
       "    </tr>\n",
       "    <tr>\n",
       "      <th>3</th>\n",
       "      <td>0</td>\n",
       "      <td>0</td>\n",
       "    </tr>\n",
       "    <tr>\n",
       "      <th>4</th>\n",
       "      <td>1</td>\n",
       "      <td>0</td>\n",
       "    </tr>\n",
       "  </tbody>\n",
       "</table>\n",
       "</div>"
      ],
      "text/plain": [
       "   LOW  MEDIUM\n",
       "0    0       1\n",
       "1    0       0\n",
       "2    0       0\n",
       "3    0       0\n",
       "4    1       0"
      ]
     },
     "execution_count": 22,
     "metadata": {},
     "output_type": "execute_result"
    }
   ],
   "source": [
    "SWM = pd.get_dummies(testdata['SWM'],drop_first=True)\n",
    "SWM.head(5)"
   ]
  },
  {
   "cell_type": "code",
   "execution_count": 23,
   "metadata": {},
   "outputs": [
    {
     "data": {
      "text/html": [
       "<div>\n",
       "<style scoped>\n",
       "    .dataframe tbody tr th:only-of-type {\n",
       "        vertical-align: middle;\n",
       "    }\n",
       "\n",
       "    .dataframe tbody tr th {\n",
       "        vertical-align: top;\n",
       "    }\n",
       "\n",
       "    .dataframe thead th {\n",
       "        text-align: right;\n",
       "    }\n",
       "</style>\n",
       "<table border=\"1\" class=\"dataframe\">\n",
       "  <thead>\n",
       "    <tr style=\"text-align: right;\">\n",
       "      <th></th>\n",
       "      <th>Population [2011]</th>\n",
       "      <th>Sex Ratio</th>\n",
       "      <th>Median Age</th>\n",
       "      <th>Avg Temp</th>\n",
       "      <th>SWM</th>\n",
       "      <th>Toilets Avl</th>\n",
       "      <th>Water Purity</th>\n",
       "      <th>H Index</th>\n",
       "      <th>Female Population</th>\n",
       "      <th># of hospitals</th>\n",
       "      <th>Foreign Visitors</th>\n",
       "      <th>LOW</th>\n",
       "      <th>MEDIUM</th>\n",
       "    </tr>\n",
       "  </thead>\n",
       "  <tbody>\n",
       "    <tr>\n",
       "      <th>0</th>\n",
       "      <td>36774.0</td>\n",
       "      <td>931.0</td>\n",
       "      <td>23.0</td>\n",
       "      <td>10.0</td>\n",
       "      <td>MEDIUM</td>\n",
       "      <td>94.0</td>\n",
       "      <td>114.0</td>\n",
       "      <td>0.253390</td>\n",
       "      <td>34237.0</td>\n",
       "      <td>17.0</td>\n",
       "      <td>2769.0</td>\n",
       "      <td>0</td>\n",
       "      <td>1</td>\n",
       "    </tr>\n",
       "    <tr>\n",
       "      <th>1</th>\n",
       "      <td>36754.0</td>\n",
       "      <td>934.0</td>\n",
       "      <td>25.0</td>\n",
       "      <td>38.0</td>\n",
       "      <td>HIGH</td>\n",
       "      <td>62.0</td>\n",
       "      <td>160.0</td>\n",
       "      <td>0.192555</td>\n",
       "      <td>34328.0</td>\n",
       "      <td>13.0</td>\n",
       "      <td>636502.0</td>\n",
       "      <td>0</td>\n",
       "      <td>0</td>\n",
       "    </tr>\n",
       "    <tr>\n",
       "      <th>2</th>\n",
       "      <td>36732.0</td>\n",
       "      <td>883.0</td>\n",
       "      <td>29.0</td>\n",
       "      <td>35.0</td>\n",
       "      <td>HIGH</td>\n",
       "      <td>63.0</td>\n",
       "      <td>105.0</td>\n",
       "      <td>0.887882</td>\n",
       "      <td>32434.0</td>\n",
       "      <td>17.0</td>\n",
       "      <td>242367.0</td>\n",
       "      <td>0</td>\n",
       "      <td>0</td>\n",
       "    </tr>\n",
       "    <tr>\n",
       "      <th>3</th>\n",
       "      <td>36706.0</td>\n",
       "      <td>887.0</td>\n",
       "      <td>26.0</td>\n",
       "      <td>31.0</td>\n",
       "      <td>HIGH</td>\n",
       "      <td>60.0</td>\n",
       "      <td>174.0</td>\n",
       "      <td>0.407838</td>\n",
       "      <td>32558.0</td>\n",
       "      <td>11.0</td>\n",
       "      <td>4408916.0</td>\n",
       "      <td>0</td>\n",
       "      <td>0</td>\n",
       "    </tr>\n",
       "    <tr>\n",
       "      <th>4</th>\n",
       "      <td>36669.0</td>\n",
       "      <td>877.0</td>\n",
       "      <td>28.0</td>\n",
       "      <td>39.0</td>\n",
       "      <td>LOW</td>\n",
       "      <td>92.0</td>\n",
       "      <td>153.0</td>\n",
       "      <td>0.324456</td>\n",
       "      <td>32159.0</td>\n",
       "      <td>23.0</td>\n",
       "      <td>3104060.0</td>\n",
       "      <td>1</td>\n",
       "      <td>0</td>\n",
       "    </tr>\n",
       "  </tbody>\n",
       "</table>\n",
       "</div>"
      ],
      "text/plain": [
       "   Population [2011]  Sex Ratio  Median Age  Avg Temp     SWM  Toilets Avl  \\\n",
       "0            36774.0      931.0        23.0      10.0  MEDIUM         94.0   \n",
       "1            36754.0      934.0        25.0      38.0    HIGH         62.0   \n",
       "2            36732.0      883.0        29.0      35.0    HIGH         63.0   \n",
       "3            36706.0      887.0        26.0      31.0    HIGH         60.0   \n",
       "4            36669.0      877.0        28.0      39.0     LOW         92.0   \n",
       "\n",
       "   Water Purity   H Index  Female Population  # of hospitals  \\\n",
       "0         114.0  0.253390            34237.0            17.0   \n",
       "1         160.0  0.192555            34328.0            13.0   \n",
       "2         105.0  0.887882            32434.0            17.0   \n",
       "3         174.0  0.407838            32558.0            11.0   \n",
       "4         153.0  0.324456            32159.0            23.0   \n",
       "\n",
       "   Foreign Visitors  LOW  MEDIUM  \n",
       "0            2769.0    0       1  \n",
       "1          636502.0    0       0  \n",
       "2          242367.0    0       0  \n",
       "3         4408916.0    0       0  \n",
       "4         3104060.0    1       0  "
      ]
     },
     "execution_count": 23,
     "metadata": {},
     "output_type": "execute_result"
    }
   ],
   "source": [
    "testdata=pd.concat([testdata,SWM],axis=1)\n",
    "testdata.head(5)"
   ]
  },
  {
   "cell_type": "code",
   "execution_count": 24,
   "metadata": {},
   "outputs": [
    {
     "data": {
      "text/plain": [
       "(501, 12)"
      ]
     },
     "execution_count": 24,
     "metadata": {},
     "output_type": "execute_result"
    }
   ],
   "source": [
    "testdata.drop(\"SWM\",axis=1,inplace=True)\n",
    "testdata.shape"
   ]
  },
  {
   "cell_type": "code",
   "execution_count": null,
   "metadata": {},
   "outputs": [],
   "source": [
    "\n",
    "\n"
   ]
  },
  {
   "cell_type": "code",
   "execution_count": 25,
   "metadata": {},
   "outputs": [],
   "source": [
    "from sklearn import linear_model"
   ]
  },
  {
   "cell_type": "code",
   "execution_count": 26,
   "metadata": {},
   "outputs": [
    {
     "data": {
      "text/plain": [
       "LinearRegression(copy_X=True, fit_intercept=True, n_jobs=None, normalize=False)"
      ]
     },
     "execution_count": 26,
     "metadata": {},
     "output_type": "execute_result"
    }
   ],
   "source": [
    "reg = linear_model.LinearRegression()\n",
    "reg.fit(X,y)"
   ]
  },
  {
   "cell_type": "code",
   "execution_count": 29,
   "metadata": {},
   "outputs": [
    {
     "data": {
      "text/plain": [
       "array([154467.86872996, 128046.10595745, 123702.07784436,  97855.56871379,\n",
       "        62377.01712332,  69571.36224612,  69727.97088483,  70335.55957784,\n",
       "        51955.01065344,  45888.35564395,  38026.8162825 ,  38394.56870747,\n",
       "        38536.00347258,  34587.11651826,  33418.44525017])"
      ]
     },
     "execution_count": 29,
     "metadata": {},
     "output_type": "execute_result"
    }
   ],
   "source": [
    "reg.predict(X.head(15))"
   ]
  },
  {
   "cell_type": "code",
   "execution_count": 30,
   "metadata": {},
   "outputs": [
    {
     "data": {
      "text/plain": [
       "0     163115\n",
       "1      80188\n",
       "2     141000\n",
       "3      55123\n",
       "4      33204\n",
       "5     145606\n",
       "6     145606\n",
       "7      44957\n",
       "8      23432\n",
       "9     218502\n",
       "10     14001\n",
       "11     37220\n",
       "12     15764\n",
       "13     22413\n",
       "14     44700\n",
       "Name: Covid Cases, dtype: int64"
      ]
     },
     "execution_count": 30,
     "metadata": {},
     "output_type": "execute_result"
    }
   ],
   "source": [
    "y.head(15)"
   ]
  },
  {
   "cell_type": "code",
   "execution_count": 31,
   "metadata": {},
   "outputs": [
    {
     "data": {
      "image/png": "[encoded data removed]",
      "text/plain": [
       "<Figure size 432x288 with 1 Axes>"
      ]
     },
     "metadata": {
      "needs_background": "light"
     },
     "output_type": "display_data"
    }
   ],
   "source": [
    "train_data=pd.read_excel(\"Train_dataset.xlsx\")\n",
    "plt.scatter(train_data.City,y,color='red')\n",
    "plt.scatter(train_data.City,reg.predict(X),color='green')\n",
    "plt.show()"
   ]
  },
  {
   "cell_type": "code",
   "execution_count": 38,
   "metadata": {},
   "outputs": [
    {
     "data": {
      "image/png": "[encoded data removed]",
      "text/plain": [
       "<Figure size 432x288 with 1 Axes>"
      ]
     },
     "metadata": {
      "needs_background": "light"
     },
     "output_type": "display_data"
    }
   ],
   "source": [
    "plt.plot(train_data.City,y,color='red')\n",
    "plt.plot(train_data.City,reg.predict(X),color='green')\n",
    "plt.show()"
   ]
  },
  {
   "cell_type": "code",
   "execution_count": null,
   "metadata": {},
   "outputs": [],
   "source": [
    "\n",
    "\n"
   ]
  },
  {
   "cell_type": "code",
   "execution_count": 42,
   "metadata": {},
   "outputs": [],
   "source": [
    "Covid_Cases = reg.predict(testdata)"
   ]
  },
  {
   "cell_type": "code",
   "execution_count": 43,
   "metadata": {},
   "outputs": [
    {
     "data": {
      "text/plain": [
       "array([1619.35555597, 1834.06257817, -816.36718557, 5379.57973352,\n",
       "       3599.51979757, 4109.25911377, 4064.17435874, -517.34426413,\n",
       "        662.717797  , 1090.53231356, 3980.47597928, 3165.18585289,\n",
       "       2288.43614465, 2290.57738189, 3631.51388991, 4140.6520504 ,\n",
       "       -936.13136287, 1273.45067772, 2269.56959573,  944.91532743])"
      ]
     },
     "execution_count": 43,
     "metadata": {},
     "output_type": "execute_result"
    }
   ],
   "source": [
    "Covid_Cases[0:20]"
   ]
  },
  {
   "cell_type": "code",
   "execution_count": 44,
   "metadata": {},
   "outputs": [
    {
     "data": {
      "text/plain": [
       "array([1619.35555597, 1834.06257817,    0.        , 5379.57973352,\n",
       "       3599.51979757, 4109.25911377, 4064.17435874,    0.        ,\n",
       "        662.717797  , 1090.53231356, 3980.47597928, 3165.18585289,\n",
       "       2288.43614465, 2290.57738189, 3631.51388991, 4140.6520504 ,\n",
       "          0.        , 1273.45067772, 2269.56959573,  944.91532743])"
      ]
     },
     "execution_count": 44,
     "metadata": {},
     "output_type": "execute_result"
    }
   ],
   "source": [
    "Covid_Cases = np.where(Covid_Cases < 0, 0, Covid_Cases)\n",
    "Covid_Cases[0:20]"
   ]
  },
  {
   "cell_type": "code",
   "execution_count": 45,
   "metadata": {},
   "outputs": [
    {
     "data": {
      "text/plain": [
       "array([1619., 1834.,    0., 5380., 3600., 4109., 4064.,    0.,  663.,\n",
       "       1091., 3980., 3165., 2288., 2291., 3632., 4141.,    0., 1273.,\n",
       "       2270.,  945.])"
      ]
     },
     "execution_count": 45,
     "metadata": {},
     "output_type": "execute_result"
    }
   ],
   "source": [
    "Covid_Cases = np.round(Covid_Cases,decimals=0)\n",
    "Covid_Cases[0:20]"
   ]
  },
  {
   "cell_type": "code",
   "execution_count": 46,
   "metadata": {},
   "outputs": [],
   "source": [
    "testdata1=pd.read_excel(\"Test_dataset.xlsx\")"
   ]
  },
  {
   "cell_type": "code",
   "execution_count": 47,
   "metadata": {},
   "outputs": [],
   "source": [
    "Covid_Cases = pd.DataFrame(Covid_Cases)"
   ]
  },
  {
   "cell_type": "code",
   "execution_count": 56,
   "metadata": {},
   "outputs": [
    {
     "data": {
      "text/html": [
       "<div>\n",
       "<style scoped>\n",
       "    .dataframe tbody tr th:only-of-type {\n",
       "        vertical-align: middle;\n",
       "    }\n",
       "\n",
       "    .dataframe tbody tr th {\n",
       "        vertical-align: top;\n",
       "    }\n",
       "\n",
       "    .dataframe thead th {\n",
       "        text-align: right;\n",
       "    }\n",
       "</style>\n",
       "<table border=\"1\" class=\"dataframe\">\n",
       "  <thead>\n",
       "    <tr style=\"text-align: right;\">\n",
       "      <th></th>\n",
       "      <th>City</th>\n",
       "      <th>0</th>\n",
       "    </tr>\n",
       "  </thead>\n",
       "  <tbody>\n",
       "    <tr>\n",
       "      <th>0</th>\n",
       "      <td>Tuensang</td>\n",
       "      <td>1619.0</td>\n",
       "    </tr>\n",
       "    <tr>\n",
       "      <th>1</th>\n",
       "      <td>Lakshmeshwar</td>\n",
       "      <td>1834.0</td>\n",
       "    </tr>\n",
       "    <tr>\n",
       "      <th>2</th>\n",
       "      <td>Zira</td>\n",
       "      <td>0.0</td>\n",
       "    </tr>\n",
       "    <tr>\n",
       "      <th>3</th>\n",
       "      <td>Yawal</td>\n",
       "      <td>5380.0</td>\n",
       "    </tr>\n",
       "    <tr>\n",
       "      <th>4</th>\n",
       "      <td>Thana Bhawan</td>\n",
       "      <td>3600.0</td>\n",
       "    </tr>\n",
       "  </tbody>\n",
       "</table>\n",
       "</div>"
      ],
      "text/plain": [
       "           City       0\n",
       "0      Tuensang  1619.0\n",
       "1  Lakshmeshwar  1834.0\n",
       "2          Zira     0.0\n",
       "3         Yawal  5380.0\n",
       "4  Thana Bhawan  3600.0"
      ]
     },
     "execution_count": 56,
     "metadata": {},
     "output_type": "execute_result"
    }
   ],
   "source": [
    "predict_data = pd.concat([testdata1.City,Covid_Cases], axis=1)\n",
    "predict_data.head(5)"
   ]
  },
  {
   "cell_type": "code",
   "execution_count": 57,
   "metadata": {},
   "outputs": [
    {
     "data": {
      "text/html": [
       "<div>\n",
       "<style scoped>\n",
       "    .dataframe tbody tr th:only-of-type {\n",
       "        vertical-align: middle;\n",
       "    }\n",
       "\n",
       "    .dataframe tbody tr th {\n",
       "        vertical-align: top;\n",
       "    }\n",
       "\n",
       "    .dataframe thead th {\n",
       "        text-align: right;\n",
       "    }\n",
       "</style>\n",
       "<table border=\"1\" class=\"dataframe\">\n",
       "  <thead>\n",
       "    <tr style=\"text-align: right;\">\n",
       "      <th></th>\n",
       "      <th>City</th>\n",
       "      <th>Covid_Cases</th>\n",
       "    </tr>\n",
       "  </thead>\n",
       "  <tbody>\n",
       "    <tr>\n",
       "      <th>0</th>\n",
       "      <td>Tuensang</td>\n",
       "      <td>1619.0</td>\n",
       "    </tr>\n",
       "    <tr>\n",
       "      <th>1</th>\n",
       "      <td>Lakshmeshwar</td>\n",
       "      <td>1834.0</td>\n",
       "    </tr>\n",
       "    <tr>\n",
       "      <th>2</th>\n",
       "      <td>Zira</td>\n",
       "      <td>0.0</td>\n",
       "    </tr>\n",
       "    <tr>\n",
       "      <th>3</th>\n",
       "      <td>Yawal</td>\n",
       "      <td>5380.0</td>\n",
       "    </tr>\n",
       "    <tr>\n",
       "      <th>4</th>\n",
       "      <td>Thana Bhawan</td>\n",
       "      <td>3600.0</td>\n",
       "    </tr>\n",
       "  </tbody>\n",
       "</table>\n",
       "</div>"
      ],
      "text/plain": [
       "           City  Covid_Cases\n",
       "0      Tuensang       1619.0\n",
       "1  Lakshmeshwar       1834.0\n",
       "2          Zira          0.0\n",
       "3         Yawal       5380.0\n",
       "4  Thana Bhawan       3600.0"
      ]
     },
     "execution_count": 57,
     "metadata": {},
     "output_type": "execute_result"
    }
   ],
   "source": [
    "predict_data.rename(columns = {0:'Covid_Cases'}, inplace = True)\n",
    "predict_data.head(5)"
   ]
  },
  {
   "cell_type": "code",
   "execution_count": 51,
   "metadata": {},
   "outputs": [
    {
     "data": {
      "text/plain": [
       "(501, 2)"
      ]
     },
     "execution_count": 51,
     "metadata": {},
     "output_type": "execute_result"
    }
   ],
   "source": [
    "predict_data.shape"
   ]
  },
  {
   "cell_type": "code",
   "execution_count": 62,
   "metadata": {
    "scrolled": true
   },
   "outputs": [
    {
     "data": {
      "image/png": "[encoded data removed]",
      "text/plain": [
       "<Figure size 432x288 with 1 Axes>"
      ]
     },
     "metadata": {
      "needs_background": "light"
     },
     "output_type": "display_data"
    }
   ],
   "source": [
    "plt.scatter(train_data.City,y,color='red')\n",
    "plt.scatter(predict_data.City,predict_data.Covid_Cases,color='green')\n",
    "plt.show()"
   ]
  },
  {
   "cell_type": "code",
   "execution_count": 63,
   "metadata": {},
   "outputs": [],
   "source": [
    "predict_data.to_excel(\"predict_out.xlsx\")"
   ]
  },
  {
   "cell_type": "code",
   "execution_count": null,
   "metadata": {},
   "outputs": [],
   "source": []
  }
 ],
 "metadata": {
  "kernelspec": {
   "display_name": "Python 3",
   "language": "python",
   "name": "python3"
  },
  "language_info": {
   "codemirror_mode": {
    "name": "ipython",
    "version": 3
   },
   "file_extension": ".py",
   "mimetype": "text/x-python",
   "name": "python",
   "nbconvert_exporter": "python",
   "pygments_lexer": "ipython3",
   "version": "3.7.3"
  }
 },
 "nbformat": 4,
 "nbformat_minor": 2
}
